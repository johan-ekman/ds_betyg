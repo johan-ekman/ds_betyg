{
 "cells": [
  {
   "cell_type": "code",
   "execution_count": 3,
   "metadata": {},
   "outputs": [],
   "source": [
    "import pandas as pd\n",
    "import os\n",
    "import numpy as np\n",
    "import matplotlib.pyplot as plt\n",
    "import seaborn as sns\n",
    "import warnings\n",
    "import re\n",
    "%matplotlib inline"
   ]
  },
  {
   "cell_type": "code",
   "execution_count": 2,
   "metadata": {},
   "outputs": [],
   "source": [
    "warnings.filterwarnings('ignore')"
   ]
  },
  {
   "cell_type": "markdown",
   "metadata": {},
   "source": [
    "December 2018\n",
    "\n",
    "Reporter: Cissi\n",
    "\n",
    "I januari 2019 kommer vi göra en 2-3:a på betygsskillnader mellan pojkar och flickor i åk 9. I den här filen hittar man alla beräkningar av data. Källa för datafilerna i Skolverket.\n",
    "\n",
    "**NOTERA** \n",
    "Samtliga år i grundfilerna är efter vilket år eleverna började nian (läsårets början). Dessa räknas nedan om till vilket år slutbetyget sattes.\n",
    "\n",
    "Resultatet publicerades i nr 2, 2019 och [finns här att läsa på webben](https://www.dagenssamhalle.se/nyhet/betygsgapet-vaxer-i-var-tredje-kommun-25707)."
   ]
  },
  {
   "cell_type": "markdown",
   "metadata": {},
   "source": [
    "# Kommunerna"
   ]
  },
  {
   "cell_type": "markdown",
   "metadata": {},
   "source": [
    "Först några funktioner som hjälper oss att formattera om Skolverkets hemska, hemska datafiler till något som är lite mer bearbetligt:"
   ]
  },
  {
   "cell_type": "code",
   "execution_count": 3,
   "metadata": {},
   "outputs": [],
   "source": [
    "def col_formatting(df):\n",
    "    \"\"\"Mindre textformattering på kolumnerna\"\"\"\n",
    "    df.columns = df.columns.str.lower()\\\n",
    "                            .str.replace(\"(\\.)(?=\\d)\",\"_\")\\\n",
    "                            .str.replace('\\(%\\) ','')\\\n",
    "                            .str.replace(\"\\.\",'')\\\n",
    "                            .str.replace(\",\",\"\")\\\n",
    "                            .str.replace(\"\\s\\(16\\)\",\"\")\\\n",
    "                            .str.replace(\" \",'_')\\\n",
    "                            .str.replace(\"_\\(\\d+\\)\",\"\")\n",
    "    return df"
   ]
  },
  {
   "cell_type": "code",
   "execution_count": 4,
   "metadata": {},
   "outputs": [],
   "source": [
    "def col_dict(file):\n",
    "    \"\"\"Återger en dict som visar vilka kön som kolumnnamnen \\\n",
    "i varje fil visar data för. Nyckeln i dicten är kolumnsindex.\"\"\"\n",
    "    cols = len(col_formatting(pd.read_csv(f'data/grund/{file}',header=4,sep=';',error_bad_lines=False)).columns)\n",
    "    cols = list(range(0,cols))\n",
    "    col_vars = pd.read_csv(f'data/grund/{file}',header=3,sep=';',error_bad_lines=False).iloc[0].index\\\n",
    "                .str.replace(\"\\.\\d\",'').str.lower().str.strip()\\\n",
    "                .str.replace(\",\",\"\").str.replace(\" \",\"_\")\\\n",
    "                .tolist()\n",
    "    return dict(zip(cols,col_vars))"
   ]
  },
  {
   "cell_type": "code",
   "execution_count": 5,
   "metadata": {},
   "outputs": [],
   "source": [
    "def col_fixer(df,cols):\n",
    "    \"\"\"Denna funktion tar kolumndictionaryn och ger varje \\\n",
    "kolumnnamn rätt suffix, t ex '_pojkar' till vad nu kolumnen \\\n",
    "heter. Detta används senare för att melta fram en enhetlig \\\n",
    "dataframe med korrekta datan.\"\"\"\n",
    "    \n",
    "    df = df.loc[:,[x for x in df.columns if \"name\" not in x]]\n",
    "    \n",
    "    columns = df.columns.tolist()\n",
    "\n",
    "    for i in range(len(columns)):\n",
    "        if i in [0,1]:\n",
    "            continue\n",
    "        m = re.search(r'\\d+$', columns[i])\n",
    "        if m:\n",
    "            columns[i] = columns[i][:-2]\n",
    "        columns[i] = columns[i] + \"_\" + cols[i]\n",
    "    \n",
    "    df.columns = columns\n",
    "    return df\n",
    "    \n",
    "    "
   ]
  },
  {
   "cell_type": "code",
   "execution_count": 6,
   "metadata": {},
   "outputs": [],
   "source": [
    "def df_reformatter(df,year):\n",
    "    \"\"\"Denna funktion tar bort slaskraderna i botten på \\\n",
    "alla csv-filer (Skolverket envisas med att lägga info under \\\n",
    "tabellerna). Den meltar också ihop dataframen till en mer \\\n",
    "logisk datastruktur samt lägger till en kolumn för kön och \\\n",
    "för år.\n",
    "\"\"\"\n",
    "    \n",
    "    # Korrekt årtal (höstterminen)\n",
    "    year = int('20' + year)-1\n",
    "    \n",
    "    # Ta bort de nedersta slaskraderna\n",
    "    df = df.loc[(~df['typ_av_huvudman'].isnull())&(df['typ_av_huvudman'].str.len()<9)]\n",
    "    \n",
    "    df['år'] = year\n",
    "    \n",
    "    # Melta ihop skiten\n",
    "    df = df.melt(id_vars=['kommun',\n",
    "                          'typ_av_huvudman',\n",
    "                          'år'],\n",
    "                 var_name='mått',\n",
    "                 value_name='värde')\n",
    "    \n",
    "    # Skapa kolumn med info om kön\n",
    "    df.loc[df['mått'].str.contains('pojk'),'kön'] = 'pojkar'\n",
    "    df.loc[df['mått'].str.contains('tjej'),'kön'] = 'tjejer'\n",
    "    df.loc[df['mått'].str.contains('flick'),'kön'] = 'tjejer'\n",
    "    df.loc[df['mått'].str.contains('samtliga'),'kön'] = 'samtliga'\n",
    "    \n",
    "    return df[['kommun',\n",
    "               'typ_av_huvudman',\n",
    "               'år',\n",
    "               'kön',\n",
    "               'mått',\n",
    "               'värde']]\n",
    "    "
   ]
  },
  {
   "cell_type": "markdown",
   "metadata": {},
   "source": [
    "Nu en loop över alla grundfiler:"
   ]
  },
  {
   "cell_type": "code",
   "execution_count": 7,
   "metadata": {},
   "outputs": [],
   "source": [
    "df = pd.DataFrame()\n",
    "for file in os.listdir('data/grund/'):\n",
    "    year = (file[-6:-4])\n",
    "    cols = col_dict(file)\n",
    "    \n",
    "    tmp = col_formatting(pd.read_csv(f'data/grund/{file}',header=4,sep=';'))\n",
    "    tmp = col_fixer(tmp,cols)\n",
    "    \n",
    "    df = pd.concat([df,df_reformatter(tmp,year)])"
   ]
  },
  {
   "cell_type": "markdown",
   "metadata": {},
   "source": [
    "För år 2015 så kom det så pass många nyanlända att man skapade en helt egen statistikkategori som var genomsnittsbetyg exklusive de med okänd bakgrund (dvs nyanlända). Dessa tar vi bort:"
   ]
  },
  {
   "cell_type": "code",
   "execution_count": 10,
   "metadata": {},
   "outputs": [],
   "source": [
    "df = df.loc[~df.mått.str.contains('exklusive')]"
   ]
  },
  {
   "cell_type": "code",
   "execution_count": 11,
   "metadata": {},
   "outputs": [],
   "source": [
    "for x in ['_inklusive_okänd_bakgrund','_flickor','_pojkar','_samtliga_elever']:\n",
    "    df.mått = df.mått.str.replace(x,\"\")"
   ]
  },
  {
   "cell_type": "markdown",
   "metadata": {},
   "source": [
    "Vissa kommuner har punkter istället för siffror. Två punkter innebär att udnerlaget är för litet för att man vill visa genomsnittssiffror (utlämnande för de eleverna), en punkt är att uppgift saknas. Båda dessa ersätts med nan-värden då det i vår beräkning de facto blir som ifall det saknas värde. Också:Ö det finns somliga kommuner som har värden som markeras med \"~100\". Detta är då i samband med ifall det är nästan 100 procent av eleverna som fått godkänt, men att det även där är för litet antal för att vara exakt. Dessa \"~\" tas bort, och sådana siffror tas bara som det står."
   ]
  },
  {
   "cell_type": "code",
   "execution_count": 12,
   "metadata": {},
   "outputs": [],
   "source": [
    "df.värde = df.värde.str.replace(\"\\.\",\"\").str.replace(\"~\",\"\").str.replace(\",\",\".\").str.replace(\"\\s\",\"\")\n",
    "df.värde = pd.to_numeric(df.värde)"
   ]
  },
  {
   "cell_type": "markdown",
   "metadata": {},
   "source": [
    "Vi vill endast kolla genomsnittisvärdena:"
   ]
  },
  {
   "cell_type": "code",
   "execution_count": 13,
   "metadata": {},
   "outputs": [],
   "source": [
    "results = df.loc[df['mått']=='genomsnittligt_meritvärde']"
   ]
  },
  {
   "cell_type": "markdown",
   "metadata": {},
   "source": [
    "Nu bryta ut så vi får pojkar och flickor i varsin kolumn:"
   ]
  },
  {
   "cell_type": "code",
   "execution_count": 16,
   "metadata": {},
   "outputs": [],
   "source": [
    "results = results.loc[results['kön']=='tjejer'].rename(columns={'värde':'värde_flickor'}).reset_index(drop=True)\\\n",
    "    .merge(results.loc[results['kön']=='pojkar'].rename(columns={'värde':'värde_pojkar'})[['kommun','typ_av_huvudman','år','värde_pojkar']],\n",
    "          on=['kommun','typ_av_huvudman','år'],how='left')"
   ]
  },
  {
   "cell_type": "code",
   "execution_count": 18,
   "metadata": {},
   "outputs": [],
   "source": [
    "results['skillnad'] = results['värde_flickor'] - results['värde_pojkar']"
   ]
  },
  {
   "cell_type": "code",
   "execution_count": 21,
   "metadata": {},
   "outputs": [],
   "source": [
    "results = results.loc[(results['typ_av_huvudman']=='Samtliga')&(results['år'].isin(list(range(2008,2018)))),['kommun','år','värde_pojkar','skillnad']]"
   ]
  },
  {
   "cell_type": "code",
   "execution_count": 28,
   "metadata": {},
   "outputs": [],
   "source": [
    "results['skillnad_procent'] = ((results['skillnad']/results['värde_pojkar'])*100).round(1)"
   ]
  },
  {
   "cell_type": "markdown",
   "metadata": {},
   "source": [
    "Nu ska vi pivotera data efter år så vi enklare kan beräkna med hur många procentenheters skillnad det har förändrats sedan betygsskillnaderna var som högst:"
   ]
  },
  {
   "cell_type": "code",
   "execution_count": 30,
   "metadata": {},
   "outputs": [],
   "source": [
    "skillnad = results[['kommun','år','skillnad_procent']].pivot(index='kommun',columns='år',values='skillnad_procent')"
   ]
  },
  {
   "cell_type": "code",
   "execution_count": 31,
   "metadata": {},
   "outputs": [
    {
     "data": {
      "text/html": [
       "<div>\n",
       "<style scoped>\n",
       "    .dataframe tbody tr th:only-of-type {\n",
       "        vertical-align: middle;\n",
       "    }\n",
       "\n",
       "    .dataframe tbody tr th {\n",
       "        vertical-align: top;\n",
       "    }\n",
       "\n",
       "    .dataframe thead th {\n",
       "        text-align: right;\n",
       "    }\n",
       "</style>\n",
       "<table border=\"1\" class=\"dataframe\">\n",
       "  <thead>\n",
       "    <tr style=\"text-align: right;\">\n",
       "      <th>år</th>\n",
       "      <th>2008</th>\n",
       "      <th>2009</th>\n",
       "      <th>2010</th>\n",
       "      <th>2011</th>\n",
       "      <th>2012</th>\n",
       "      <th>2013</th>\n",
       "      <th>2014</th>\n",
       "      <th>2015</th>\n",
       "      <th>2016</th>\n",
       "      <th>2017</th>\n",
       "    </tr>\n",
       "    <tr>\n",
       "      <th>kommun</th>\n",
       "      <th></th>\n",
       "      <th></th>\n",
       "      <th></th>\n",
       "      <th></th>\n",
       "      <th></th>\n",
       "      <th></th>\n",
       "      <th></th>\n",
       "      <th></th>\n",
       "      <th></th>\n",
       "      <th></th>\n",
       "    </tr>\n",
       "  </thead>\n",
       "  <tbody>\n",
       "    <tr>\n",
       "      <th>Ale</th>\n",
       "      <td>16.8</td>\n",
       "      <td>8.2</td>\n",
       "      <td>6.9</td>\n",
       "      <td>21.7</td>\n",
       "      <td>21.4</td>\n",
       "      <td>13.4</td>\n",
       "      <td>8.4</td>\n",
       "      <td>30.3</td>\n",
       "      <td>30.6</td>\n",
       "      <td>10.3</td>\n",
       "    </tr>\n",
       "    <tr>\n",
       "      <th>Alingsås</th>\n",
       "      <td>15.3</td>\n",
       "      <td>13.3</td>\n",
       "      <td>12.0</td>\n",
       "      <td>6.9</td>\n",
       "      <td>15.7</td>\n",
       "      <td>11.1</td>\n",
       "      <td>17.1</td>\n",
       "      <td>14.9</td>\n",
       "      <td>13.6</td>\n",
       "      <td>15.5</td>\n",
       "    </tr>\n",
       "    <tr>\n",
       "      <th>Alvesta</th>\n",
       "      <td>19.0</td>\n",
       "      <td>24.1</td>\n",
       "      <td>5.7</td>\n",
       "      <td>7.1</td>\n",
       "      <td>11.3</td>\n",
       "      <td>16.0</td>\n",
       "      <td>26.1</td>\n",
       "      <td>14.5</td>\n",
       "      <td>23.7</td>\n",
       "      <td>11.5</td>\n",
       "    </tr>\n",
       "    <tr>\n",
       "      <th>Aneby</th>\n",
       "      <td>20.3</td>\n",
       "      <td>14.3</td>\n",
       "      <td>20.0</td>\n",
       "      <td>3.8</td>\n",
       "      <td>1.8</td>\n",
       "      <td>7.8</td>\n",
       "      <td>7.2</td>\n",
       "      <td>10.4</td>\n",
       "      <td>12.4</td>\n",
       "      <td>11.1</td>\n",
       "    </tr>\n",
       "    <tr>\n",
       "      <th>Arboga</th>\n",
       "      <td>8.5</td>\n",
       "      <td>8.2</td>\n",
       "      <td>2.6</td>\n",
       "      <td>-1.1</td>\n",
       "      <td>5.9</td>\n",
       "      <td>-2.1</td>\n",
       "      <td>14.2</td>\n",
       "      <td>8.8</td>\n",
       "      <td>7.7</td>\n",
       "      <td>10.5</td>\n",
       "    </tr>\n",
       "  </tbody>\n",
       "</table>\n",
       "</div>"
      ],
      "text/plain": [
       "år        2008  2009  2010  2011  2012  2013  2014  2015  2016  2017\n",
       "kommun                                                              \n",
       "Ale       16.8   8.2   6.9  21.7  21.4  13.4   8.4  30.3  30.6  10.3\n",
       "Alingsås  15.3  13.3  12.0   6.9  15.7  11.1  17.1  14.9  13.6  15.5\n",
       "Alvesta   19.0  24.1   5.7   7.1  11.3  16.0  26.1  14.5  23.7  11.5\n",
       "Aneby     20.3  14.3  20.0   3.8   1.8   7.8   7.2  10.4  12.4  11.1\n",
       "Arboga     8.5   8.2   2.6  -1.1   5.9  -2.1  14.2   8.8   7.7  10.5"
      ]
     },
     "execution_count": 31,
     "metadata": {},
     "output_type": "execute_result"
    }
   ],
   "source": [
    "skillnad.head()"
   ]
  },
  {
   "cell_type": "markdown",
   "metadata": {},
   "source": [
    "Cissi bad mig i ett senare skede att ändra på årtalen. Varje läsår skrivs ut med hösttermin och vårtermin, och eftersom betygen kommer på våren så ville Cissi att vi därför använder det senare årtalet. Så istället för \"2017/18\" så blir det \"2017\":"
   ]
  },
  {
   "cell_type": "code",
   "execution_count": 32,
   "metadata": {},
   "outputs": [],
   "source": [
    "skillnad.columns = [int(x)+1 for x in skillnad.columns if not x =='ämne']"
   ]
  },
  {
   "cell_type": "code",
   "execution_count": 35,
   "metadata": {},
   "outputs": [],
   "source": [
    "skillnad['skillnader_2016_2018'] = skillnad[2018]-skillnad[2016]"
   ]
  },
  {
   "cell_type": "markdown",
   "metadata": {},
   "source": [
    "Fyra kommuner saknar värde då de något av åren saknar siffror att beräkna på:"
   ]
  },
  {
   "cell_type": "code",
   "execution_count": 37,
   "metadata": {},
   "outputs": [
    {
     "data": {
      "text/html": [
       "<div>\n",
       "<style scoped>\n",
       "    .dataframe tbody tr th:only-of-type {\n",
       "        vertical-align: middle;\n",
       "    }\n",
       "\n",
       "    .dataframe tbody tr th {\n",
       "        vertical-align: top;\n",
       "    }\n",
       "\n",
       "    .dataframe thead th {\n",
       "        text-align: right;\n",
       "    }\n",
       "</style>\n",
       "<table border=\"1\" class=\"dataframe\">\n",
       "  <thead>\n",
       "    <tr style=\"text-align: right;\">\n",
       "      <th></th>\n",
       "      <th>2009</th>\n",
       "      <th>2010</th>\n",
       "      <th>2011</th>\n",
       "      <th>2012</th>\n",
       "      <th>2013</th>\n",
       "      <th>2014</th>\n",
       "      <th>2015</th>\n",
       "      <th>2016</th>\n",
       "      <th>2017</th>\n",
       "      <th>2018</th>\n",
       "      <th>skillnader_2016_2018</th>\n",
       "    </tr>\n",
       "    <tr>\n",
       "      <th>kommun</th>\n",
       "      <th></th>\n",
       "      <th></th>\n",
       "      <th></th>\n",
       "      <th></th>\n",
       "      <th></th>\n",
       "      <th></th>\n",
       "      <th></th>\n",
       "      <th></th>\n",
       "      <th></th>\n",
       "      <th></th>\n",
       "      <th></th>\n",
       "    </tr>\n",
       "  </thead>\n",
       "  <tbody>\n",
       "    <tr>\n",
       "      <th>Bjurholm</th>\n",
       "      <td>11.5</td>\n",
       "      <td>13.3</td>\n",
       "      <td>15.3</td>\n",
       "      <td>6.4</td>\n",
       "      <td>4.3</td>\n",
       "      <td>22.9</td>\n",
       "      <td>1.3</td>\n",
       "      <td>NaN</td>\n",
       "      <td>19.9</td>\n",
       "      <td>0.9</td>\n",
       "      <td>NaN</td>\n",
       "    </tr>\n",
       "    <tr>\n",
       "      <th>Dorotea</th>\n",
       "      <td>6.0</td>\n",
       "      <td>25.8</td>\n",
       "      <td>-1.3</td>\n",
       "      <td>24.7</td>\n",
       "      <td>NaN</td>\n",
       "      <td>3.8</td>\n",
       "      <td>NaN</td>\n",
       "      <td>NaN</td>\n",
       "      <td>15.9</td>\n",
       "      <td>23.8</td>\n",
       "      <td>NaN</td>\n",
       "    </tr>\n",
       "    <tr>\n",
       "      <th>Skinnskatteberg</th>\n",
       "      <td>18.9</td>\n",
       "      <td>33.0</td>\n",
       "      <td>29.4</td>\n",
       "      <td>NaN</td>\n",
       "      <td>NaN</td>\n",
       "      <td>15.4</td>\n",
       "      <td>33.9</td>\n",
       "      <td>11.0</td>\n",
       "      <td>27.9</td>\n",
       "      <td>NaN</td>\n",
       "      <td>NaN</td>\n",
       "    </tr>\n",
       "    <tr>\n",
       "      <th>Sorsele</th>\n",
       "      <td>4.3</td>\n",
       "      <td>2.0</td>\n",
       "      <td>8.1</td>\n",
       "      <td>NaN</td>\n",
       "      <td>16.9</td>\n",
       "      <td>74.8</td>\n",
       "      <td>-0.9</td>\n",
       "      <td>22.6</td>\n",
       "      <td>16.8</td>\n",
       "      <td>NaN</td>\n",
       "      <td>NaN</td>\n",
       "    </tr>\n",
       "  </tbody>\n",
       "</table>\n",
       "</div>"
      ],
      "text/plain": [
       "                 2009  2010  2011  2012  2013  2014  2015  2016  2017  2018  \\\n",
       "kommun                                                                        \n",
       "Bjurholm         11.5  13.3  15.3   6.4   4.3  22.9   1.3   NaN  19.9   0.9   \n",
       "Dorotea           6.0  25.8  -1.3  24.7   NaN   3.8   NaN   NaN  15.9  23.8   \n",
       "Skinnskatteberg  18.9  33.0  29.4   NaN   NaN  15.4  33.9  11.0  27.9   NaN   \n",
       "Sorsele           4.3   2.0   8.1   NaN  16.9  74.8  -0.9  22.6  16.8   NaN   \n",
       "\n",
       "                 skillnader_2016_2018  \n",
       "kommun                                 \n",
       "Bjurholm                          NaN  \n",
       "Dorotea                           NaN  \n",
       "Skinnskatteberg                   NaN  \n",
       "Sorsele                           NaN  "
      ]
     },
     "execution_count": 37,
     "metadata": {},
     "output_type": "execute_result"
    }
   ],
   "source": [
    "skillnad.loc[skillnad['skillnader_2016_2018'].isnull()]"
   ]
  },
  {
   "cell_type": "code",
   "execution_count": 152,
   "metadata": {},
   "outputs": [],
   "source": [
    "skillnad.to_excel('resultat/skillnad_2016.xlsx')"
   ]
  },
  {
   "cell_type": "markdown",
   "metadata": {},
   "source": [
    "Sådär, nu har vi beräknat fram hur många procents skillnad det är mellan gapet i killars och tjejers betyg 2017 jämfört 2015. Nu sorterar vi fram senaste läsåret och lägger till denna kolumn till datat som ska skickas till Cissi:"
   ]
  },
  {
   "cell_type": "code",
   "execution_count": 38,
   "metadata": {},
   "outputs": [],
   "source": [
    "results = results.loc[results['år']==2018,['kommun','värde_pojkar','skillnad','skillnad_procent']].reset_index(drop=True)"
   ]
  },
  {
   "cell_type": "code",
   "execution_count": 154,
   "metadata": {},
   "outputs": [],
   "source": [
    "results.merge(skillnad[['skillnader_2016_2018']].reset_index(),on='kommun',how='left').sort_values('skillnader_2016_2018',ascending=False)\\\n",
    "    .rename(columns={\n",
    "    'värde_pojkar':'Genomsnittspoäng pojkar (2017/18)',\n",
    "    'skillnad':'Skillnad i genomsnittspoäng (2017/18)',\n",
    "    'skillnad_procent':'Skillnad i procent (2017/18)',\n",
    "    'skillnader_2016_2018':'Procentenheters skillnad, jämfört 2015/16'\n",
    "    \n",
    "}).reset_index(drop=True).to_excel('betygsskillnader_pojkar_flickor_2018.xlsx',index=False)"
   ]
  },
  {
   "cell_type": "markdown",
   "metadata": {},
   "source": [
    "# Riket"
   ]
  },
  {
   "cell_type": "markdown",
   "metadata": {},
   "source": [
    "Nu till beräkningar av rikssiffrorna:"
   ]
  },
  {
   "cell_type": "code",
   "execution_count": 39,
   "metadata": {},
   "outputs": [],
   "source": [
    "df = pd.read_excel('data/riket.xlsx')"
   ]
  },
  {
   "cell_type": "code",
   "execution_count": 40,
   "metadata": {},
   "outputs": [],
   "source": [
    "df.år = df.år.apply(lambda x: x[:4])"
   ]
  },
  {
   "cell_type": "code",
   "execution_count": 41,
   "metadata": {},
   "outputs": [],
   "source": [
    "df = df.loc[df.år.astype('int') > 2007]"
   ]
  },
  {
   "cell_type": "code",
   "execution_count": 42,
   "metadata": {},
   "outputs": [
    {
     "data": {
      "text/html": [
       "<div>\n",
       "<style scoped>\n",
       "    .dataframe tbody tr th:only-of-type {\n",
       "        vertical-align: middle;\n",
       "    }\n",
       "\n",
       "    .dataframe tbody tr th {\n",
       "        vertical-align: top;\n",
       "    }\n",
       "\n",
       "    .dataframe thead th {\n",
       "        text-align: right;\n",
       "    }\n",
       "</style>\n",
       "<table border=\"1\" class=\"dataframe\">\n",
       "  <thead>\n",
       "    <tr style=\"text-align: right;\">\n",
       "      <th></th>\n",
       "      <th>år</th>\n",
       "      <th>kön</th>\n",
       "      <th>genomsnittligt_meritvärde_16</th>\n",
       "      <th>kommun</th>\n",
       "      <th>fristående</th>\n",
       "      <th>sv_bakgrund</th>\n",
       "      <th>utl_bakgrund</th>\n",
       "    </tr>\n",
       "  </thead>\n",
       "  <tbody>\n",
       "    <tr>\n",
       "      <th>15</th>\n",
       "      <td>2009</td>\n",
       "      <td>totalt</td>\n",
       "      <td>208.80</td>\n",
       "      <td>206.30</td>\n",
       "      <td>228.20</td>\n",
       "      <td>212.70</td>\n",
       "      <td>188.8</td>\n",
       "    </tr>\n",
       "    <tr>\n",
       "      <th>16</th>\n",
       "      <td>2010</td>\n",
       "      <td>totalt</td>\n",
       "      <td>210.60</td>\n",
       "      <td>207.70</td>\n",
       "      <td>229.50</td>\n",
       "      <td>214.70</td>\n",
       "      <td>191.8</td>\n",
       "    </tr>\n",
       "    <tr>\n",
       "      <th>17</th>\n",
       "      <td>2011</td>\n",
       "      <td>totalt</td>\n",
       "      <td>211.40</td>\n",
       "      <td>208.20</td>\n",
       "      <td>230.00</td>\n",
       "      <td>216.10</td>\n",
       "      <td>191.6</td>\n",
       "    </tr>\n",
       "    <tr>\n",
       "      <th>18</th>\n",
       "      <td>2012</td>\n",
       "      <td>totalt</td>\n",
       "      <td>213.10</td>\n",
       "      <td>209.70</td>\n",
       "      <td>231.40</td>\n",
       "      <td>218.10</td>\n",
       "      <td>193.7</td>\n",
       "    </tr>\n",
       "    <tr>\n",
       "      <th>19</th>\n",
       "      <td>2013</td>\n",
       "      <td>totalt</td>\n",
       "      <td>214.75</td>\n",
       "      <td>211.04</td>\n",
       "      <td>233.05</td>\n",
       "      <td>220.33</td>\n",
       "      <td>194.4</td>\n",
       "    </tr>\n",
       "  </tbody>\n",
       "</table>\n",
       "</div>"
      ],
      "text/plain": [
       "      år     kön  genomsnittligt_meritvärde_16  kommun  fristående  \\\n",
       "15  2009  totalt                        208.80  206.30      228.20   \n",
       "16  2010  totalt                        210.60  207.70      229.50   \n",
       "17  2011  totalt                        211.40  208.20      230.00   \n",
       "18  2012  totalt                        213.10  209.70      231.40   \n",
       "19  2013  totalt                        214.75  211.04      233.05   \n",
       "\n",
       "    sv_bakgrund  utl_bakgrund  \n",
       "15       212.70         188.8  \n",
       "16       214.70         191.8  \n",
       "17       216.10         191.6  \n",
       "18       218.10         193.7  \n",
       "19       220.33         194.4  "
      ]
     },
     "execution_count": 42,
     "metadata": {},
     "output_type": "execute_result"
    }
   ],
   "source": [
    "df.head()"
   ]
  },
  {
   "cell_type": "code",
   "execution_count": 43,
   "metadata": {},
   "outputs": [],
   "source": [
    "# sifferavrundning\n",
    "df.iloc[:,2:] = df.iloc[:,2:].round(1)"
   ]
  },
  {
   "cell_type": "markdown",
   "metadata": {},
   "source": [
    "Slår nu ihop allt i en rak dataframe"
   ]
  },
  {
   "cell_type": "code",
   "execution_count": 44,
   "metadata": {},
   "outputs": [],
   "source": [
    "df = df.melt(id_vars=['år','kön'],var_name='mått',value_name='värde')"
   ]
  },
  {
   "cell_type": "code",
   "execution_count": 46,
   "metadata": {},
   "outputs": [
    {
     "data": {
      "text/html": [
       "<div>\n",
       "<style scoped>\n",
       "    .dataframe tbody tr th:only-of-type {\n",
       "        vertical-align: middle;\n",
       "    }\n",
       "\n",
       "    .dataframe tbody tr th {\n",
       "        vertical-align: top;\n",
       "    }\n",
       "\n",
       "    .dataframe thead th {\n",
       "        text-align: right;\n",
       "    }\n",
       "</style>\n",
       "<table border=\"1\" class=\"dataframe\">\n",
       "  <thead>\n",
       "    <tr style=\"text-align: right;\">\n",
       "      <th></th>\n",
       "      <th>år</th>\n",
       "      <th>kön</th>\n",
       "      <th>mått</th>\n",
       "      <th>värde</th>\n",
       "    </tr>\n",
       "  </thead>\n",
       "  <tbody>\n",
       "    <tr>\n",
       "      <th>0</th>\n",
       "      <td>2009</td>\n",
       "      <td>totalt</td>\n",
       "      <td>genomsnittligt_meritvärde_16</td>\n",
       "      <td>208.8</td>\n",
       "    </tr>\n",
       "    <tr>\n",
       "      <th>1</th>\n",
       "      <td>2010</td>\n",
       "      <td>totalt</td>\n",
       "      <td>genomsnittligt_meritvärde_16</td>\n",
       "      <td>210.6</td>\n",
       "    </tr>\n",
       "    <tr>\n",
       "      <th>2</th>\n",
       "      <td>2011</td>\n",
       "      <td>totalt</td>\n",
       "      <td>genomsnittligt_meritvärde_16</td>\n",
       "      <td>211.4</td>\n",
       "    </tr>\n",
       "    <tr>\n",
       "      <th>3</th>\n",
       "      <td>2012</td>\n",
       "      <td>totalt</td>\n",
       "      <td>genomsnittligt_meritvärde_16</td>\n",
       "      <td>213.1</td>\n",
       "    </tr>\n",
       "    <tr>\n",
       "      <th>4</th>\n",
       "      <td>2013</td>\n",
       "      <td>totalt</td>\n",
       "      <td>genomsnittligt_meritvärde_16</td>\n",
       "      <td>214.8</td>\n",
       "    </tr>\n",
       "  </tbody>\n",
       "</table>\n",
       "</div>"
      ],
      "text/plain": [
       "     år     kön                          mått  värde\n",
       "0  2009  totalt  genomsnittligt_meritvärde_16  208.8\n",
       "1  2010  totalt  genomsnittligt_meritvärde_16  210.6\n",
       "2  2011  totalt  genomsnittligt_meritvärde_16  211.4\n",
       "3  2012  totalt  genomsnittligt_meritvärde_16  213.1\n",
       "4  2013  totalt  genomsnittligt_meritvärde_16  214.8"
      ]
     },
     "execution_count": 46,
     "metadata": {},
     "output_type": "execute_result"
    }
   ],
   "source": [
    "df.head()"
   ]
  },
  {
   "cell_type": "markdown",
   "metadata": {},
   "source": [
    "Bort med totalsiffrorna:"
   ]
  },
  {
   "cell_type": "code",
   "execution_count": 47,
   "metadata": {},
   "outputs": [],
   "source": [
    "df = df.loc[df['kön']!='totalt']"
   ]
  },
  {
   "cell_type": "markdown",
   "metadata": {},
   "source": [
    "Skapandet av två kolumner, en för pojkar och en för flickor:"
   ]
  },
  {
   "cell_type": "code",
   "execution_count": 48,
   "metadata": {},
   "outputs": [],
   "source": [
    "df = df.pivot_table(index=['år','mått'],columns='kön',values='värde').reset_index()"
   ]
  },
  {
   "cell_type": "code",
   "execution_count": 49,
   "metadata": {},
   "outputs": [
    {
     "data": {
      "text/html": [
       "<div>\n",
       "<style scoped>\n",
       "    .dataframe tbody tr th:only-of-type {\n",
       "        vertical-align: middle;\n",
       "    }\n",
       "\n",
       "    .dataframe tbody tr th {\n",
       "        vertical-align: top;\n",
       "    }\n",
       "\n",
       "    .dataframe thead th {\n",
       "        text-align: right;\n",
       "    }\n",
       "</style>\n",
       "<table border=\"1\" class=\"dataframe\">\n",
       "  <thead>\n",
       "    <tr style=\"text-align: right;\">\n",
       "      <th>kön</th>\n",
       "      <th>år</th>\n",
       "      <th>mått</th>\n",
       "      <th>flickor</th>\n",
       "      <th>pojkar</th>\n",
       "    </tr>\n",
       "  </thead>\n",
       "  <tbody>\n",
       "    <tr>\n",
       "      <th>0</th>\n",
       "      <td>2008</td>\n",
       "      <td>fristående</td>\n",
       "      <td>237.4</td>\n",
       "      <td>218.6</td>\n",
       "    </tr>\n",
       "    <tr>\n",
       "      <th>1</th>\n",
       "      <td>2008</td>\n",
       "      <td>genomsnittligt_meritvärde_16</td>\n",
       "      <td>220.6</td>\n",
       "      <td>198.9</td>\n",
       "    </tr>\n",
       "    <tr>\n",
       "      <th>2</th>\n",
       "      <td>2008</td>\n",
       "      <td>kommun</td>\n",
       "      <td>218.6</td>\n",
       "      <td>196.8</td>\n",
       "    </tr>\n",
       "    <tr>\n",
       "      <th>3</th>\n",
       "      <td>2008</td>\n",
       "      <td>sv_bakgrund</td>\n",
       "      <td>224.5</td>\n",
       "      <td>202.3</td>\n",
       "    </tr>\n",
       "    <tr>\n",
       "      <th>4</th>\n",
       "      <td>2008</td>\n",
       "      <td>utl_bakgrund</td>\n",
       "      <td>198.5</td>\n",
       "      <td>180.9</td>\n",
       "    </tr>\n",
       "  </tbody>\n",
       "</table>\n",
       "</div>"
      ],
      "text/plain": [
       "kön    år                          mått  flickor  pojkar\n",
       "0    2008                    fristående    237.4   218.6\n",
       "1    2008  genomsnittligt_meritvärde_16    220.6   198.9\n",
       "2    2008                        kommun    218.6   196.8\n",
       "3    2008                   sv_bakgrund    224.5   202.3\n",
       "4    2008                  utl_bakgrund    198.5   180.9"
      ]
     },
     "execution_count": 49,
     "metadata": {},
     "output_type": "execute_result"
    }
   ],
   "source": [
    "df.head()"
   ]
  },
  {
   "cell_type": "markdown",
   "metadata": {},
   "source": [
    "Beräkning av betygsskillnaderna nedan. Den slutgiltiga siffran visar då alltså hur många procent högre betyg som flickorna har, jämfört pojkarna:"
   ]
  },
  {
   "cell_type": "code",
   "execution_count": 50,
   "metadata": {},
   "outputs": [],
   "source": [
    "df['skillnad_%'] = (((df['flickor']-df['pojkar'])/df['pojkar'])*100).round(1)"
   ]
  },
  {
   "cell_type": "code",
   "execution_count": 51,
   "metadata": {},
   "outputs": [],
   "source": [
    "df = df.melt(id_vars=['år','mått'],var_name='vars',value_name='värde')"
   ]
  },
  {
   "cell_type": "code",
   "execution_count": 53,
   "metadata": {},
   "outputs": [],
   "source": [
    "# Justera så att åren räknas efter det året betygen kom, inte när eleverna började nian\n",
    "df.år = df.år.astype('int') + 1"
   ]
  },
  {
   "cell_type": "code",
   "execution_count": 57,
   "metadata": {},
   "outputs": [],
   "source": [
    "df.loc[(df['mått']=='genomsnittligt_meritvärde_16')&(df['vars']=='skillnad_%')&\\\n",
    "       (df['år'].isin(list(range(2008,2019))))]\\\n",
    "        [['år','värde']].to_excel('resultat/riksskillnader.xlsx',index=False)"
   ]
  },
  {
   "cell_type": "code",
   "execution_count": 29,
   "metadata": {},
   "outputs": [
    {
     "data": {
      "image/png": "[encoded data removed]",
      "text/plain": [
       "<Figure size 1080x1440 with 5 Axes>"
      ]
     },
     "metadata": {
      "needs_background": "light"
     },
     "output_type": "display_data"
    }
   ],
   "source": [
    "g = sns.FacetGrid(df.loc[df.vars=='skillnad_%'],col='mått',col_wrap=1)\n",
    "g.map(plt.plot,'år','värde')\n",
    "\n",
    "\n",
    "g.set_xticklabels(step=2,rotation=45)\n",
    "g.fig.set_size_inches(15,20)\n",
    "\n",
    "for a in g.axes:\n",
    "    a.grid(True, axis='y', alpha=0.5, color='grey')"
   ]
  },
  {
   "cell_type": "markdown",
   "metadata": {},
   "source": [
    "# Ämnen"
   ]
  },
  {
   "cell_type": "markdown",
   "metadata": {},
   "source": [
    "Cissi har också önskat en överblick över betygen i alla ämnen för killar/tjejer. Så jag hämtade dessa från Skolverket"
   ]
  },
  {
   "cell_type": "code",
   "execution_count": 4,
   "metadata": {},
   "outputs": [],
   "source": [
    "import os"
   ]
  },
  {
   "cell_type": "code",
   "execution_count": 5,
   "metadata": {},
   "outputs": [],
   "source": [
    "cols = ['ämne', 'år', 'antal', 'poäng', 'andel_AE','kön']"
   ]
  },
  {
   "cell_type": "markdown",
   "metadata": {},
   "source": [
    "Följande är används sedan som indexsiffror för de kolumner i grunddata som tillhör respektive grupp elever i datasettet:"
   ]
  },
  {
   "cell_type": "code",
   "execution_count": 7,
   "metadata": {},
   "outputs": [],
   "source": [
    "flickor = [3,7,8]\n",
    "pojkar = [4,9,10]\n",
    "totalt = [2,5,6]"
   ]
  },
  {
   "cell_type": "code",
   "execution_count": 17,
   "metadata": {},
   "outputs": [],
   "source": [
    "df = pd.DataFrame()\n",
    "for file in os.listdir('data/ämnen/'):\n",
    "    #print(file)\n",
    "    if \".DS_\" in file:\n",
    "        continue\n",
    "    tmp = pd.read_excel(f'data/ämnen/{file}',header=1)\n",
    "    p = tmp.iloc[:,[0,1]+pojkar]\n",
    "    p['kön'] = 'pojkar'\n",
    "    f = tmp.iloc[:,[0,1]+flickor]\n",
    "    f['kön'] = 'flickor'\n",
    "    t = tmp.iloc[:,[0,1]+totalt]\n",
    "    t['kön'] = 'totalt'\n",
    "    \n",
    "    for temp in [p,f,t]:\n",
    "        temp.columns = cols\n",
    "    tmp = pd.DataFrame()\n",
    "    for temp in [p,f,t]:\n",
    "        tmp = pd.concat([tmp,temp])\n",
    "    \n",
    "    tmp = tmp.melt(id_vars=['år','ämne','kön'],var_name='variabel',value_name='värde')\n",
    "    df = pd.concat([df,tmp])"
   ]
  },
  {
   "cell_type": "code",
   "execution_count": 18,
   "metadata": {},
   "outputs": [
    {
     "data": {
      "text/plain": [
       "array(['antal', 'poäng', 'andel_AE'], dtype=object)"
      ]
     },
     "execution_count": 18,
     "metadata": {},
     "output_type": "execute_result"
    }
   ],
   "source": [
    "df.variabel.unique()"
   ]
  },
  {
   "cell_type": "code",
   "execution_count": 19,
   "metadata": {},
   "outputs": [],
   "source": [
    "df = df.loc[(df['variabel']=='poäng')&(df['kön'].isin(['pojkar','flickor']))]"
   ]
  },
  {
   "cell_type": "code",
   "execution_count": 20,
   "metadata": {},
   "outputs": [
    {
     "data": {
      "text/html": [
       "<div>\n",
       "<style scoped>\n",
       "    .dataframe tbody tr th:only-of-type {\n",
       "        vertical-align: middle;\n",
       "    }\n",
       "\n",
       "    .dataframe tbody tr th {\n",
       "        vertical-align: top;\n",
       "    }\n",
       "\n",
       "    .dataframe thead th {\n",
       "        text-align: right;\n",
       "    }\n",
       "</style>\n",
       "<table border=\"1\" class=\"dataframe\">\n",
       "  <thead>\n",
       "    <tr style=\"text-align: right;\">\n",
       "      <th></th>\n",
       "      <th>år</th>\n",
       "      <th>ämne</th>\n",
       "      <th>kön</th>\n",
       "      <th>variabel</th>\n",
       "      <th>värde</th>\n",
       "    </tr>\n",
       "  </thead>\n",
       "  <tbody>\n",
       "    <tr>\n",
       "      <th>63</th>\n",
       "      <td>2012</td>\n",
       "      <td>Bild</td>\n",
       "      <td>pojkar</td>\n",
       "      <td>poäng</td>\n",
       "      <td>12.8</td>\n",
       "    </tr>\n",
       "    <tr>\n",
       "      <th>64</th>\n",
       "      <td>2012</td>\n",
       "      <td>Engelska</td>\n",
       "      <td>pojkar</td>\n",
       "      <td>poäng</td>\n",
       "      <td>14.0</td>\n",
       "    </tr>\n",
       "    <tr>\n",
       "      <th>65</th>\n",
       "      <td>2012</td>\n",
       "      <td>Hem och konsumentkunskap</td>\n",
       "      <td>pojkar</td>\n",
       "      <td>poäng</td>\n",
       "      <td>13.0</td>\n",
       "    </tr>\n",
       "    <tr>\n",
       "      <th>66</th>\n",
       "      <td>2012</td>\n",
       "      <td>idrott</td>\n",
       "      <td>pojkar</td>\n",
       "      <td>poäng</td>\n",
       "      <td>14.5</td>\n",
       "    </tr>\n",
       "    <tr>\n",
       "      <th>67</th>\n",
       "      <td>2012</td>\n",
       "      <td>Matematik</td>\n",
       "      <td>pojkar</td>\n",
       "      <td>poäng</td>\n",
       "      <td>12.5</td>\n",
       "    </tr>\n",
       "  </tbody>\n",
       "</table>\n",
       "</div>"
      ],
      "text/plain": [
       "      år                      ämne     kön variabel  värde\n",
       "63  2012                      Bild  pojkar    poäng   12.8\n",
       "64  2012                  Engelska  pojkar    poäng   14.0\n",
       "65  2012  Hem och konsumentkunskap  pojkar    poäng   13.0\n",
       "66  2012                    idrott  pojkar    poäng   14.5\n",
       "67  2012                 Matematik  pojkar    poäng   12.5"
      ]
     },
     "execution_count": 20,
     "metadata": {},
     "output_type": "execute_result"
    }
   ],
   "source": [
    "df.head()"
   ]
  },
  {
   "cell_type": "code",
   "execution_count": 22,
   "metadata": {},
   "outputs": [],
   "source": [
    "df = df.pivot_table(index=['år','ämne'],columns='kön',values='värde').reset_index()"
   ]
  },
  {
   "cell_type": "markdown",
   "metadata": {},
   "source": [
    "Andelsberäkning av betygsskillnaden härnäst. Siffran på skillnad visar hur många procent högre tjejer betyg tjejer har i förhållande till pojkar:"
   ]
  },
  {
   "cell_type": "code",
   "execution_count": 23,
   "metadata": {},
   "outputs": [],
   "source": [
    "df['skillnad_%'] = (((df['flickor']-df['pojkar'])/df['pojkar'])*100).round(1)"
   ]
  },
  {
   "cell_type": "code",
   "execution_count": 24,
   "metadata": {},
   "outputs": [
    {
     "data": {
      "text/html": [
       "<div>\n",
       "<style scoped>\n",
       "    .dataframe tbody tr th:only-of-type {\n",
       "        vertical-align: middle;\n",
       "    }\n",
       "\n",
       "    .dataframe tbody tr th {\n",
       "        vertical-align: top;\n",
       "    }\n",
       "\n",
       "    .dataframe thead th {\n",
       "        text-align: right;\n",
       "    }\n",
       "</style>\n",
       "<table border=\"1\" class=\"dataframe\">\n",
       "  <thead>\n",
       "    <tr style=\"text-align: right;\">\n",
       "      <th>kön</th>\n",
       "      <th>år</th>\n",
       "      <th>ämne</th>\n",
       "      <th>flickor</th>\n",
       "      <th>pojkar</th>\n",
       "      <th>skillnad_%</th>\n",
       "    </tr>\n",
       "  </thead>\n",
       "  <tbody>\n",
       "    <tr>\n",
       "      <th>0</th>\n",
       "      <td>2012</td>\n",
       "      <td>Bild</td>\n",
       "      <td>15.5</td>\n",
       "      <td>12.8</td>\n",
       "      <td>21.1</td>\n",
       "    </tr>\n",
       "    <tr>\n",
       "      <th>1</th>\n",
       "      <td>2012</td>\n",
       "      <td>Biologi</td>\n",
       "      <td>13.6</td>\n",
       "      <td>12.1</td>\n",
       "      <td>12.4</td>\n",
       "    </tr>\n",
       "    <tr>\n",
       "      <th>2</th>\n",
       "      <td>2012</td>\n",
       "      <td>Engelska</td>\n",
       "      <td>14.6</td>\n",
       "      <td>14.0</td>\n",
       "      <td>4.3</td>\n",
       "    </tr>\n",
       "    <tr>\n",
       "      <th>3</th>\n",
       "      <td>2012</td>\n",
       "      <td>Fysik</td>\n",
       "      <td>13.0</td>\n",
       "      <td>12.3</td>\n",
       "      <td>5.7</td>\n",
       "    </tr>\n",
       "    <tr>\n",
       "      <th>4</th>\n",
       "      <td>2012</td>\n",
       "      <td>Geografi</td>\n",
       "      <td>13.8</td>\n",
       "      <td>12.5</td>\n",
       "      <td>10.4</td>\n",
       "    </tr>\n",
       "  </tbody>\n",
       "</table>\n",
       "</div>"
      ],
      "text/plain": [
       "kön    år      ämne  flickor  pojkar  skillnad_%\n",
       "0    2012      Bild     15.5    12.8        21.1\n",
       "1    2012   Biologi     13.6    12.1        12.4\n",
       "2    2012  Engelska     14.6    14.0         4.3\n",
       "3    2012     Fysik     13.0    12.3         5.7\n",
       "4    2012  Geografi     13.8    12.5        10.4"
      ]
     },
     "execution_count": 24,
     "metadata": {},
     "output_type": "execute_result"
    }
   ],
   "source": [
    "df.head()"
   ]
  },
  {
   "cell_type": "markdown",
   "metadata": {},
   "source": [
    "Så med andra ord, år 2012 hade flickor 21,1 % högre betyg än pojkar i ämnet bild."
   ]
  },
  {
   "cell_type": "code",
   "execution_count": 25,
   "metadata": {},
   "outputs": [],
   "source": [
    "resultat = df[['år','ämne','skillnad_%']].pivot(index='ämne',columns='år',values='skillnad_%')"
   ]
  },
  {
   "cell_type": "code",
   "execution_count": 102,
   "metadata": {},
   "outputs": [],
   "source": [
    "# Justera så att åren räknas efter det året betygen kom, inte när eleverna började nian\n",
    "resultat.columns = [int(x)+1 for x in resultat.columns if not x =='ämne']"
   ]
  },
  {
   "cell_type": "code",
   "execution_count": 81,
   "metadata": {},
   "outputs": [],
   "source": [
    "resultat.reset_index().to_excel('ämnen.xlsx',index=False)"
   ]
  },
  {
   "cell_type": "code",
   "execution_count": null,
   "metadata": {},
   "outputs": [],
   "source": []
  },
  {
   "cell_type": "code",
   "execution_count": null,
   "metadata": {},
   "outputs": [],
   "source": []
  },
  {
   "cell_type": "code",
   "execution_count": null,
   "metadata": {},
   "outputs": [],
   "source": []
  },
  {
   "cell_type": "code",
   "execution_count": null,
   "metadata": {},
   "outputs": [],
   "source": []
  }
 ],
 "metadata": {
  "kernelspec": {
   "display_name": "Python 3",
   "language": "python",
   "name": "python3"
  },
  "language_info": {
   "codemirror_mode": {
    "name": "ipython",
    "version": 3
   },
   "file_extension": ".py",
   "mimetype": "text/x-python",
   "name": "python",
   "nbconvert_exporter": "python",
   "pygments_lexer": "ipython3",
   "version": "3.6.2"
  }
 },
 "nbformat": 4,
 "nbformat_minor": 2
}
